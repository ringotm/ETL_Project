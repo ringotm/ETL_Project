{
 "metadata": {
  "language_info": {
   "codemirror_mode": {
    "name": "ipython",
    "version": 3
   },
   "file_extension": ".py",
   "mimetype": "text/x-python",
   "name": "python",
   "nbconvert_exporter": "python",
   "pygments_lexer": "ipython3",
   "version": "3.7.7-final"
  },
  "orig_nbformat": 2,
  "kernelspec": {
   "name": "python37464bitbaseconda68e905bc638043beabf2e502caa344b2",
   "display_name": "Python 3.7.4 64-bit ('base': conda)"
  }
 },
 "nbformat": 4,
 "nbformat_minor": 2,
 "cells": [
  {
   "cell_type": "code",
   "execution_count": 1,
   "metadata": {},
   "outputs": [],
   "source": [
    "from bs4 import BeautifulSoup\n",
    "import pandas as pd\n",
    "import requests"
   ]
  },
  {
   "cell_type": "code",
   "execution_count": 2,
   "metadata": {},
   "outputs": [],
   "source": [
    "beer_url = \"https://bigworldsmallgirl.com/central-texas-brewery-guide/#:~:text=With%20over%2058%20breweries%20in,love%20about%20our%20craft%20beer\""
   ]
  },
  {
   "cell_type": "code",
   "execution_count": 3,
   "metadata": {},
   "outputs": [],
   "source": [
    "html = requests.get(beer_url)"
   ]
  },
  {
   "cell_type": "code",
   "execution_count": 4,
   "metadata": {},
   "outputs": [],
   "source": [
    "soup = BeautifulSoup(html.text, 'html.parser')"
   ]
  },
  {
   "cell_type": "code",
   "execution_count": 5,
   "metadata": {
    "tags": []
   },
   "outputs": [],
   "source": [
    "brewery_data = soup.find('div', class_= 'entry-content clearfix')\n",
    "brewery_list = brewery_data.find_all('p')"
   ]
  },
  {
   "cell_type": "code",
   "execution_count": null,
   "metadata": {},
   "outputs": [],
   "source": []
  },
  {
   "cell_type": "code",
   "execution_count": 6,
   "metadata": {
    "tags": []
   },
   "outputs": [],
   "source": [
    "breweries = []\n",
    "addresses = []\n",
    "for brewery in brewery_list:\n",
    "    if (brewery.a and brewery.a.strong):\n",
    "        brewery_name = brewery.a.strong.text\n",
    "        brewery_address = brewery.a.next_sibling\n",
    "        breweries.append(brewery_name)\n",
    "        addresses.append(brewery_address)\n",
    "    elif (brewery.strong and brewery.strong.a):\n",
    "        brewery_name = brewery.strong.a.text\n",
    "        brewery_address = brewery.strong.next_sibling\n",
    "        breweries.append(brewery_name)\n",
    "        addresses.append(brewery_address)"
   ]
  },
  {
   "cell_type": "code",
   "execution_count": 7,
   "metadata": {
    "tags": []
   },
   "outputs": [
    {
     "output_type": "stream",
     "name": "stdout",
     "text": "60\n60\n"
    }
   ],
   "source": [
    "print(len(breweries))\n",
    "print(len(addresses))"
   ]
  },
  {
   "cell_type": "code",
   "execution_count": 8,
   "metadata": {},
   "outputs": [
    {
     "output_type": "execute_result",
     "data": {
      "text/plain": "[' 10615 Metric Boulevard, 78758',\n ' 2314 Rutland Drive, 78758',\n ' 3001 Industrial Terrace, 78758',\n ' 7020 Easy Wind Drive, 78752 [K] ',\n ' 6015 Dillard Circle, 78752 [K] [BWSG]',\n ' 10001 Metric Boulevard, 78758 [BWSG]',\n ' 2340 W Braker Lane, 78758 [BWSG]',\n ' 4112 Medical Parkway, 78756 [BWSG]',\n ' 2307 Kramer Lane, 78758',\n ' 2400 Patterson Industrial Drive, 78660 ',\n ' 10420 Metric Boulevard, 78758',\n ' 4729 Burnet Road, 78756 [K] [BWSG]',\n ' 1700 Bryant Dr. #107, Round Rock, 78664 [BWSG]',\n ' 7100 FM 3405,\\xa0Liberty Hill, 78642',\n ' 16920 Joe Barbee Drive Bldg 1, Round Rock, 78664',\n ' 2200 S Interstate 35 B1, Round Rock, 78681',\n '11880 Hero Way W Suite 208, Leander, ',\n ' 2800 Hoppe Trail, Round Rock, 78681  [K]',\n ' 13010 W. Parmer Ln. #800, Cedar Park,\\xa078613 [K] ',\n ' 2500 NE Inner Loop, Georgetown,\\xa078626',\n ' 500 Chaparral Drive,\\xa0Liberty Hill, 78641 [BWSG]',\n ' 601 E. Whitestone Blvd. #500, Cedar Park, 78613',\n <a aria-label=\"Central District Brewing (opens in a new tab)\" href=\"http://centraldistrictbrewing.com/\" rel=\"noreferrer noopener\" target=\"_blank\"> </a>,\n ' 1208 W 4th Street, 78703',\n ' 407 Radam Lane, 78745',\n ' 1305 W Oltorf Street, 78704 [K] [BWSG]',\n ' 3913 Todd Lane #607, 78744',\n ' 3804 Woodbury Drive Suite A, 78704 [BWSG]',\n ' 4700-F Burle\\xadson Road, 78744',\n ' 4236 S Lamar Boulevard, 78704 [K]',\n ' 1005 E St Elmo Road,\\xa0 78745 [BWSG]',\n ' 440 E St Elmo Road, 78745 [BWSG]',\n ' 8201 S Congress Avenue, 78745',\n ' 535 S. Loop 4, Buda, 78610',\n <strong> </strong>,\n ' 2400 E Cesar Chavez Street, 78702 [BWSG]',\n ' 4715 E 5th Street, 78702 [K]',\n ' 4824 E Cesar Chavez Street, 78702 [K]',\n '\\xa0979 Springdale Road, 78702',\n ' 1201 Bastrop Highway, 78742',\n ' 507 Calles Street, 78702 ',\n ' 1902 E 6th Street, 78702 [K] [BWSG]',\n ' 1615 Crozier Lane, Del Valle, 78617',\n ' 3108 Manor Road, 78723 [K]',\n ' 6014 Techni Center Drive, 78721 [BWSG]',\n ' 1701 E 6th Street, 78702',\n ' 4700 W Fitzhugh Road, Dripping Springs, 78620',\n ' 211 W. Mercer Street, Dripping Springs,\\xa078620',\n ' 13476 Fitzhugh Rd, Austin, TX 78736 [K]',\n ' 19510 Hamilton Pool Road, Dripping Springs, 78620 [BWSG]',\n ' 4602 Weletka Drive, Austin, 78734 ',\n ' 13187 Fitzhugh Road, Austin, 78736 [K]',\n ' 12345 Pauls Valley Road, Austin, 78737',\n ' 6550 Comanche Trail, Austin, 78732 [K]',\n ' 31610 Ranch Road 12, Dripping Springs, 78620',\n '1032 Canyon Bend Drive, Dripping Springs, 78620',\n ' 23455 Ranch to Market Road 150, Dripping Springs, 78620',\n ' 13551 Ranch to Market Road 150, Driftwood, 78619 [BWSG] [K]',\n '(under construction, anticipated opening late spring, 2020) 3901 Promontory Point Drive, 78744',\n ' (under construction) 11160 Circle Drive, 78736']"
     },
     "metadata": {},
     "execution_count": 8
    }
   ],
   "source": [
    "addresses"
   ]
  },
  {
   "cell_type": "code",
   "execution_count": 9,
   "metadata": {},
   "outputs": [
    {
     "output_type": "execute_result",
     "data": {
      "text/plain": "                       Brewery                                 Address\n0  4th Tap Brewing Cooperative           10615 Metric Boulevard, 78758\n1           Adelbert’s Brewery               2314 Rutland Drive, 78758\n2             Austin Beerworks          3001 Industrial Terrace, 78758\n3             Black Star Co-Op        7020 Easy Wind Drive, 78752 [K] \n4                   Brewtorium   6015 Dillard Circle, 78752 [K] [BWSG]",
      "text/html": "<div>\n<style scoped>\n    .dataframe tbody tr th:only-of-type {\n        vertical-align: middle;\n    }\n\n    .dataframe tbody tr th {\n        vertical-align: top;\n    }\n\n    .dataframe thead th {\n        text-align: right;\n    }\n</style>\n<table border=\"1\" class=\"dataframe\">\n  <thead>\n    <tr style=\"text-align: right;\">\n      <th></th>\n      <th>Brewery</th>\n      <th>Address</th>\n    </tr>\n  </thead>\n  <tbody>\n    <tr>\n      <th>0</th>\n      <td>4th Tap Brewing Cooperative</td>\n      <td>10615 Metric Boulevard, 78758</td>\n    </tr>\n    <tr>\n      <th>1</th>\n      <td>Adelbert’s Brewery</td>\n      <td>2314 Rutland Drive, 78758</td>\n    </tr>\n    <tr>\n      <th>2</th>\n      <td>Austin Beerworks</td>\n      <td>3001 Industrial Terrace, 78758</td>\n    </tr>\n    <tr>\n      <th>3</th>\n      <td>Black Star Co-Op</td>\n      <td>7020 Easy Wind Drive, 78752 [K]</td>\n    </tr>\n    <tr>\n      <th>4</th>\n      <td>Brewtorium</td>\n      <td>6015 Dillard Circle, 78752 [K] [BWSG]</td>\n    </tr>\n  </tbody>\n</table>\n</div>"
     },
     "metadata": {},
     "execution_count": 9
    }
   ],
   "source": [
    "df = pd.DataFrame({'Brewery': breweries, 'Address': addresses})\n",
    "df.head()"
   ]
  },
  {
   "cell_type": "code",
   "execution_count": 10,
   "metadata": {},
   "outputs": [],
   "source": [
    "#(\\d{3,5}\\w[^),]+)\n",
    "#(\\d{3,5}[^,]+\n",
    "#(\\d{3,5}\\s\\w[^),]+)\n",
    "#(\\d{3,5}-?\\w\\s\\w[^),]+)"
   ]
  },
  {
   "cell_type": "code",
   "execution_count": 11,
   "metadata": {},
   "outputs": [
    {
     "output_type": "execute_result",
     "data": {
      "text/plain": "                     Brewery  \\\n55      Suds Monkey Brewing    \n56         Twisted X Brewing   \n57             Vista Brewing   \n58        Meanwhile Brewing    \n59  Hitmaker Brewing Company   \n\n                                              Address  \\\n55    1032 Canyon Bend Drive, Dripping Springs, 78620   \n56  23455 Ranch to Market Road 150, Dripping Sprin...   \n57  13551 Ranch to Market Road 150, Driftwood, 786...   \n58  (under construction, anticipated opening late ...   \n59     (under construction) 11160 Circle Drive, 78736   \n\n                    Street_Address  \n55          1032 Canyon Bend Drive  \n56  23455 Ranch to Market Road 150  \n57  13551 Ranch to Market Road 150  \n58     3901 Promontory Point Drive  \n59              11160 Circle Drive  ",
      "text/html": "<div>\n<style scoped>\n    .dataframe tbody tr th:only-of-type {\n        vertical-align: middle;\n    }\n\n    .dataframe tbody tr th {\n        vertical-align: top;\n    }\n\n    .dataframe thead th {\n        text-align: right;\n    }\n</style>\n<table border=\"1\" class=\"dataframe\">\n  <thead>\n    <tr style=\"text-align: right;\">\n      <th></th>\n      <th>Brewery</th>\n      <th>Address</th>\n      <th>Street_Address</th>\n    </tr>\n  </thead>\n  <tbody>\n    <tr>\n      <th>55</th>\n      <td>Suds Monkey Brewing</td>\n      <td>1032 Canyon Bend Drive, Dripping Springs, 78620</td>\n      <td>1032 Canyon Bend Drive</td>\n    </tr>\n    <tr>\n      <th>56</th>\n      <td>Twisted X Brewing</td>\n      <td>23455 Ranch to Market Road 150, Dripping Sprin...</td>\n      <td>23455 Ranch to Market Road 150</td>\n    </tr>\n    <tr>\n      <th>57</th>\n      <td>Vista Brewing</td>\n      <td>13551 Ranch to Market Road 150, Driftwood, 786...</td>\n      <td>13551 Ranch to Market Road 150</td>\n    </tr>\n    <tr>\n      <th>58</th>\n      <td>Meanwhile Brewing</td>\n      <td>(under construction, anticipated opening late ...</td>\n      <td>3901 Promontory Point Drive</td>\n    </tr>\n    <tr>\n      <th>59</th>\n      <td>Hitmaker Brewing Company</td>\n      <td>(under construction) 11160 Circle Drive, 78736</td>\n      <td>11160 Circle Drive</td>\n    </tr>\n  </tbody>\n</table>\n</div>"
     },
     "metadata": {},
     "execution_count": 11
    }
   ],
   "source": [
    "df['Street_Address'] = df['Address'].str.extract('(\\d{3,5}\\s\\w[^),]+)', expand=True)\n",
    "df['Address'] = df['Address'].str.lstrip()\n",
    "df.tail()"
   ]
  },
  {
   "cell_type": "code",
   "execution_count": 12,
   "metadata": {},
   "outputs": [
    {
     "output_type": "execute_result",
     "data": {
      "text/plain": "0                         10615 Metric Boulevard, 78758\n1                             2314 Rutland Drive, 78758\n2                        3001 Industrial Terrace, 78758\n3                      7020 Easy Wind Drive, 78752 [K] \n4                 6015 Dillard Circle, 78752 [K] [BWSG]\n5                  10001 Metric Boulevard, 78758 [BWSG]\n6                      2340 W Braker Lane, 78758 [BWSG]\n7                    4112 Medical Parkway, 78756 [BWSG]\n8                               2307 Kramer Lane, 78758\n9               2400 Patterson Industrial Drive, 78660 \n10                        10420 Metric Boulevard, 78758\n11                   4729 Burnet Road, 78756 [K] [BWSG]\n12       1700 Bryant Dr. #107, Round Rock, 78664 [BWSG]\n13                    7100 FM 3405, Liberty Hill, 78642\n14     16920 Joe Barbee Drive Bldg 1, Round Rock, 78664\n15           2200 S Interstate 35 B1, Round Rock, 78681\n16                11880 Hero Way W Suite 208, Leander, \n17             2800 Hoppe Trail, Round Rock, 78681  [K]\n18     13010 W. Parmer Ln. #800, Cedar Park, 78613 [K] \n19                2500 NE Inner Loop, Georgetown, 78626\n20      500 Chaparral Drive, Liberty Hill, 78641 [BWSG]\n21      601 E. Whitestone Blvd. #500, Cedar Park, 78613\n22                                                  NaN\n23                             1208 W 4th Street, 78703\n24                                407 Radam Lane, 78745\n25               1305 W Oltorf Street, 78704 [K] [BWSG]\n26                           3913 Todd Lane #607, 78744\n27            3804 Woodbury Drive Suite A, 78704 [BWSG]\n28                         4700-F Burle­son Road, 78744\n29                    4236 S Lamar Boulevard, 78704 [K]\n30                   1005 E St Elmo Road,  78745 [BWSG]\n31                     440 E St Elmo Road, 78745 [BWSG]\n32                        8201 S Congress Avenue, 78745\n33                           535 S. Loop 4, Buda, 78610\n34                                                  NaN\n35             2400 E Cesar Chavez Street, 78702 [BWSG]\n36                         4715 E 5th Street, 78702 [K]\n37                4824 E Cesar Chavez Street, 78702 [K]\n38                           979 Springdale Road, 78702\n39                          1201 Bastrop Highway, 78742\n40                            507 Calles Street, 78702 \n41                  1902 E 6th Street, 78702 [K] [BWSG]\n42                  1615 Crozier Lane, Del Valle, 78617\n43                           3108 Manor Road, 78723 [K]\n44               6014 Techni Center Drive, 78721 [BWSG]\n45                             1701 E 6th Street, 78702\n46        4700 W Fitzhugh Road, Dripping Springs, 78620\n47        211 W. Mercer Street, Dripping Springs, 78620\n48              13476 Fitzhugh Rd, Austin, TX 78736 [K]\n49    19510 Hamilton Pool Road, Dripping Springs, 78...\n50                   4602 Weletka Drive, Austin, 78734 \n51               13187 Fitzhugh Road, Austin, 78736 [K]\n52               12345 Pauls Valley Road, Austin, 78737\n53               6550 Comanche Trail, Austin, 78732 [K]\n54         31610 Ranch Road 12, Dripping Springs, 78620\n55      1032 Canyon Bend Drive, Dripping Springs, 78620\n56    23455 Ranch to Market Road 150, Dripping Sprin...\n57    13551 Ranch to Market Road 150, Driftwood, 786...\n58    (under construction, anticipated opening late ...\n59       (under construction) 11160 Circle Drive, 78736\nName: Address, dtype: object"
     },
     "metadata": {},
     "execution_count": 12
    }
   ],
   "source": [
    "df['Address']"
   ]
  },
  {
   "cell_type": "code",
   "execution_count": 13,
   "metadata": {},
   "outputs": [
    {
     "output_type": "execute_result",
     "data": {
      "text/plain": "                     Brewery  \\\n55      Suds Monkey Brewing    \n56         Twisted X Brewing   \n57             Vista Brewing   \n58        Meanwhile Brewing    \n59  Hitmaker Brewing Company   \n\n                                              Address  \\\n55    1032 Canyon Bend Drive, Dripping Springs, 78620   \n56  23455 Ranch to Market Road 150, Dripping Sprin...   \n57  13551 Ranch to Market Road 150, Driftwood, 786...   \n58  (under construction, anticipated opening late ...   \n59     (under construction) 11160 Circle Drive, 78736   \n\n                    Street_Address Zipcode  \n55          1032 Canyon Bend Drive   78620  \n56  23455 Ranch to Market Road 150   78620  \n57  13551 Ranch to Market Road 150   78619  \n58     3901 Promontory Point Drive   78744  \n59              11160 Circle Drive   78736  ",
      "text/html": "<div>\n<style scoped>\n    .dataframe tbody tr th:only-of-type {\n        vertical-align: middle;\n    }\n\n    .dataframe tbody tr th {\n        vertical-align: top;\n    }\n\n    .dataframe thead th {\n        text-align: right;\n    }\n</style>\n<table border=\"1\" class=\"dataframe\">\n  <thead>\n    <tr style=\"text-align: right;\">\n      <th></th>\n      <th>Brewery</th>\n      <th>Address</th>\n      <th>Street_Address</th>\n      <th>Zipcode</th>\n    </tr>\n  </thead>\n  <tbody>\n    <tr>\n      <th>55</th>\n      <td>Suds Monkey Brewing</td>\n      <td>1032 Canyon Bend Drive, Dripping Springs, 78620</td>\n      <td>1032 Canyon Bend Drive</td>\n      <td>78620</td>\n    </tr>\n    <tr>\n      <th>56</th>\n      <td>Twisted X Brewing</td>\n      <td>23455 Ranch to Market Road 150, Dripping Sprin...</td>\n      <td>23455 Ranch to Market Road 150</td>\n      <td>78620</td>\n    </tr>\n    <tr>\n      <th>57</th>\n      <td>Vista Brewing</td>\n      <td>13551 Ranch to Market Road 150, Driftwood, 786...</td>\n      <td>13551 Ranch to Market Road 150</td>\n      <td>78619</td>\n    </tr>\n    <tr>\n      <th>58</th>\n      <td>Meanwhile Brewing</td>\n      <td>(under construction, anticipated opening late ...</td>\n      <td>3901 Promontory Point Drive</td>\n      <td>78744</td>\n    </tr>\n    <tr>\n      <th>59</th>\n      <td>Hitmaker Brewing Company</td>\n      <td>(under construction) 11160 Circle Drive, 78736</td>\n      <td>11160 Circle Drive</td>\n      <td>78736</td>\n    </tr>\n  </tbody>\n</table>\n</div>"
     },
     "metadata": {},
     "execution_count": 13
    }
   ],
   "source": [
    "df['Zipcode'] = df['Address'].str.extract('(\\s7\\d\\d\\d\\d)', expand=True)\n",
    "df.tail()"
   ]
  },
  {
   "cell_type": "code",
   "execution_count": 14,
   "metadata": {},
   "outputs": [],
   "source": [
    "df.loc[(df['Brewery'] == 'Central District Brewing'), 'Street_Address']= '417 Red River Street'\n",
    "df.loc[(df['Brewery'] == 'Central District Brewing'), 'Zipcode']= 78701\n",
    "df.loc[(df['Brewery'] == 'Orf Brewing'), 'Street_Address']= '4700-F Burle­son Road'\n",
    "df.loc[(df['Brewery'] == 'Batch Brewhouse'), 'Street_Address']= '3220 Manor Road'\n",
    "df.loc[(df['Brewery'] == 'Batch Brewhouse'), 'Zipcode']= 78723\n",
    "\n",
    "df.loc[(df['Brewery'] == 'Humble Pint Brewing Co.'), 'Zipcode'] = 78641"
   ]
  },
  {
   "cell_type": "code",
   "execution_count": 15,
   "metadata": {},
   "outputs": [
    {
     "output_type": "execute_result",
     "data": {
      "text/plain": "                                        Brewery  \\\n0                   4th Tap Brewing Cooperative   \n1                            Adelbert’s Brewery   \n2                              Austin Beerworks   \n3                              Black Star Co-Op   \n4                                    Brewtorium   \n5                                 Celis Brewing   \n6                                Circle Brewing   \n7                                 Draught House   \n8                              Hopsquad Brewing   \n9                            Flying Man Brewing   \n10                                  Oskar Blues   \n11                              Pinthouse Pizza   \n12                      Bluebonnet Beer Company   \n13                           Bull Creek Brewing   \n14                             Compadre Brewing   \n15                               Flix Brewhouse   \n16                      Humble Pint Brewing Co.   \n17                              Pinthouse Pizza   \n18          Red Horn Coffee House & Brewing Co.   \n19                              Rentsch Brewery   \n20                    San Gabriel River Brewery   \n21                           Whitestone Brewery   \n22                     Central District Brewing   \n23                               Holdout Brewin   \n24                                (512) Brewing   \n25          Austin Beer Garden & Brewery (ABGB)   \n26                         Independence Brewing   \n27                            Nomadic Beerworks   \n28                                  Orf Brewing   \n29                              Pinthouse Pizza   \n30                       Skull Mechanix Brewing   \n31                              St Elmo Brewing   \n32                       Thirsty Planet Brewing   \n33                            Two Wheel Brewing   \n34                              Batch Brewhouse   \n35                             Blue Owl Brewing   \n36                               Brewer’s Table   \n37  Central Machine Works Brewery and Beer Hall   \n38                     Friends & Allies Brewing   \n39                              Hi Sign Brewing   \n40                               Hops and Grain   \n41                              Lazarus Brewing   \n42                             Live Oak Brewing   \n43                                 Oddwood Ales   \n44                     Southern Heights Brewing   \n45                               Zilker Brewing   \n46                          12 Fox Beer Company   \n47                               Acopon Brewing   \n48                             Beerburg Brewing   \n49                         Family Business Beer   \n50                     Infamous Brewing Company   \n51                          Jester King Brewery   \n52                           Last Stand Brewing   \n53                          Oasis Texas Brewing   \n54                One Shot Distillery & Brewery   \n55                         Suds Monkey Brewing    \n56                            Twisted X Brewing   \n57                                Vista Brewing   \n58                           Meanwhile Brewing    \n59                     Hitmaker Brewing Company   \n\n                                              Address  \\\n0                       10615 Metric Boulevard, 78758   \n1                           2314 Rutland Drive, 78758   \n2                      3001 Industrial Terrace, 78758   \n3                    7020 Easy Wind Drive, 78752 [K]    \n4               6015 Dillard Circle, 78752 [K] [BWSG]   \n5                10001 Metric Boulevard, 78758 [BWSG]   \n6                    2340 W Braker Lane, 78758 [BWSG]   \n7                  4112 Medical Parkway, 78756 [BWSG]   \n8                             2307 Kramer Lane, 78758   \n9             2400 Patterson Industrial Drive, 78660    \n10                      10420 Metric Boulevard, 78758   \n11                 4729 Burnet Road, 78756 [K] [BWSG]   \n12     1700 Bryant Dr. #107, Round Rock, 78664 [BWSG]   \n13                  7100 FM 3405, Liberty Hill, 78642   \n14   16920 Joe Barbee Drive Bldg 1, Round Rock, 78664   \n15         2200 S Interstate 35 B1, Round Rock, 78681   \n16              11880 Hero Way W Suite 208, Leander,    \n17           2800 Hoppe Trail, Round Rock, 78681  [K]   \n18   13010 W. Parmer Ln. #800, Cedar Park, 78613 [K]    \n19              2500 NE Inner Loop, Georgetown, 78626   \n20    500 Chaparral Drive, Liberty Hill, 78641 [BWSG]   \n21    601 E. Whitestone Blvd. #500, Cedar Park, 78613   \n22                                                NaN   \n23                           1208 W 4th Street, 78703   \n24                              407 Radam Lane, 78745   \n25             1305 W Oltorf Street, 78704 [K] [BWSG]   \n26                         3913 Todd Lane #607, 78744   \n27          3804 Woodbury Drive Suite A, 78704 [BWSG]   \n28                       4700-F Burle­son Road, 78744   \n29                  4236 S Lamar Boulevard, 78704 [K]   \n30                 1005 E St Elmo Road,  78745 [BWSG]   \n31                   440 E St Elmo Road, 78745 [BWSG]   \n32                      8201 S Congress Avenue, 78745   \n33                         535 S. Loop 4, Buda, 78610   \n34                                                NaN   \n35           2400 E Cesar Chavez Street, 78702 [BWSG]   \n36                       4715 E 5th Street, 78702 [K]   \n37              4824 E Cesar Chavez Street, 78702 [K]   \n38                         979 Springdale Road, 78702   \n39                        1201 Bastrop Highway, 78742   \n40                          507 Calles Street, 78702    \n41                1902 E 6th Street, 78702 [K] [BWSG]   \n42                1615 Crozier Lane, Del Valle, 78617   \n43                         3108 Manor Road, 78723 [K]   \n44             6014 Techni Center Drive, 78721 [BWSG]   \n45                           1701 E 6th Street, 78702   \n46      4700 W Fitzhugh Road, Dripping Springs, 78620   \n47      211 W. Mercer Street, Dripping Springs, 78620   \n48            13476 Fitzhugh Rd, Austin, TX 78736 [K]   \n49  19510 Hamilton Pool Road, Dripping Springs, 78...   \n50                 4602 Weletka Drive, Austin, 78734    \n51             13187 Fitzhugh Road, Austin, 78736 [K]   \n52             12345 Pauls Valley Road, Austin, 78737   \n53             6550 Comanche Trail, Austin, 78732 [K]   \n54       31610 Ranch Road 12, Dripping Springs, 78620   \n55    1032 Canyon Bend Drive, Dripping Springs, 78620   \n56  23455 Ranch to Market Road 150, Dripping Sprin...   \n57  13551 Ranch to Market Road 150, Driftwood, 786...   \n58  (under construction, anticipated opening late ...   \n59     (under construction) 11160 Circle Drive, 78736   \n\n                     Street_Address Zipcode  \n0            10615 Metric Boulevard   78758  \n1                2314 Rutland Drive   78758  \n2           3001 Industrial Terrace   78758  \n3              7020 Easy Wind Drive   78752  \n4               6015 Dillard Circle   78752  \n5            10001 Metric Boulevard   78758  \n6                2340 W Braker Lane   78758  \n7              4112 Medical Parkway   78756  \n8                  2307 Kramer Lane   78758  \n9   2400 Patterson Industrial Drive   78660  \n10           10420 Metric Boulevard   78758  \n11                 4729 Burnet Road   78756  \n12             1700 Bryant Dr. #107   78664  \n13                     7100 FM 3405   78642  \n14    16920 Joe Barbee Drive Bldg 1   78664  \n15          2200 S Interstate 35 B1   78681  \n16       11880 Hero Way W Suite 208   78641  \n17                 2800 Hoppe Trail   78681  \n18         13010 W. Parmer Ln. #800   78613  \n19               2500 NE Inner Loop   78626  \n20              500 Chaparral Drive   78641  \n21     601 E. Whitestone Blvd. #500   78613  \n22             417 Red River Street   78701  \n23                1208 W 4th Street   78703  \n24                   407 Radam Lane   78745  \n25             1305 W Oltorf Street   78704  \n26              3913 Todd Lane #607   78744  \n27      3804 Woodbury Drive Suite A   78704  \n28            4700-F Burle­son Road   78744  \n29           4236 S Lamar Boulevard   78704  \n30              1005 E St Elmo Road   78745  \n31               440 E St Elmo Road   78745  \n32           8201 S Congress Avenue   78745  \n33                    535 S. Loop 4   78610  \n34                  3220 Manor Road   78723  \n35       2400 E Cesar Chavez Street   78702  \n36                4715 E 5th Street   78702  \n37       4824 E Cesar Chavez Street   78702  \n38              979 Springdale Road   78702  \n39             1201 Bastrop Highway   78742  \n40                507 Calles Street   78702  \n41                1902 E 6th Street   78702  \n42                1615 Crozier Lane   78617  \n43                  3108 Manor Road   78723  \n44         6014 Techni Center Drive   78721  \n45                1701 E 6th Street   78702  \n46             4700 W Fitzhugh Road   78620  \n47             211 W. Mercer Street   78620  \n48                13476 Fitzhugh Rd   78736  \n49         19510 Hamilton Pool Road   78620  \n50               4602 Weletka Drive   78734  \n51              13187 Fitzhugh Road   78736  \n52          12345 Pauls Valley Road   78737  \n53              6550 Comanche Trail   78732  \n54              31610 Ranch Road 12   78620  \n55           1032 Canyon Bend Drive   78620  \n56   23455 Ranch to Market Road 150   78620  \n57   13551 Ranch to Market Road 150   78619  \n58      3901 Promontory Point Drive   78744  \n59               11160 Circle Drive   78736  ",
      "text/html": "<div>\n<style scoped>\n    .dataframe tbody tr th:only-of-type {\n        vertical-align: middle;\n    }\n\n    .dataframe tbody tr th {\n        vertical-align: top;\n    }\n\n    .dataframe thead th {\n        text-align: right;\n    }\n</style>\n<table border=\"1\" class=\"dataframe\">\n  <thead>\n    <tr style=\"text-align: right;\">\n      <th></th>\n      <th>Brewery</th>\n      <th>Address</th>\n      <th>Street_Address</th>\n      <th>Zipcode</th>\n    </tr>\n  </thead>\n  <tbody>\n    <tr>\n      <th>0</th>\n      <td>4th Tap Brewing Cooperative</td>\n      <td>10615 Metric Boulevard, 78758</td>\n      <td>10615 Metric Boulevard</td>\n      <td>78758</td>\n    </tr>\n    <tr>\n      <th>1</th>\n      <td>Adelbert’s Brewery</td>\n      <td>2314 Rutland Drive, 78758</td>\n      <td>2314 Rutland Drive</td>\n      <td>78758</td>\n    </tr>\n    <tr>\n      <th>2</th>\n      <td>Austin Beerworks</td>\n      <td>3001 Industrial Terrace, 78758</td>\n      <td>3001 Industrial Terrace</td>\n      <td>78758</td>\n    </tr>\n    <tr>\n      <th>3</th>\n      <td>Black Star Co-Op</td>\n      <td>7020 Easy Wind Drive, 78752 [K]</td>\n      <td>7020 Easy Wind Drive</td>\n      <td>78752</td>\n    </tr>\n    <tr>\n      <th>4</th>\n      <td>Brewtorium</td>\n      <td>6015 Dillard Circle, 78752 [K] [BWSG]</td>\n      <td>6015 Dillard Circle</td>\n      <td>78752</td>\n    </tr>\n    <tr>\n      <th>5</th>\n      <td>Celis Brewing</td>\n      <td>10001 Metric Boulevard, 78758 [BWSG]</td>\n      <td>10001 Metric Boulevard</td>\n      <td>78758</td>\n    </tr>\n    <tr>\n      <th>6</th>\n      <td>Circle Brewing</td>\n      <td>2340 W Braker Lane, 78758 [BWSG]</td>\n      <td>2340 W Braker Lane</td>\n      <td>78758</td>\n    </tr>\n    <tr>\n      <th>7</th>\n      <td>Draught House</td>\n      <td>4112 Medical Parkway, 78756 [BWSG]</td>\n      <td>4112 Medical Parkway</td>\n      <td>78756</td>\n    </tr>\n    <tr>\n      <th>8</th>\n      <td>Hopsquad Brewing</td>\n      <td>2307 Kramer Lane, 78758</td>\n      <td>2307 Kramer Lane</td>\n      <td>78758</td>\n    </tr>\n    <tr>\n      <th>9</th>\n      <td>Flying Man Brewing</td>\n      <td>2400 Patterson Industrial Drive, 78660</td>\n      <td>2400 Patterson Industrial Drive</td>\n      <td>78660</td>\n    </tr>\n    <tr>\n      <th>10</th>\n      <td>Oskar Blues</td>\n      <td>10420 Metric Boulevard, 78758</td>\n      <td>10420 Metric Boulevard</td>\n      <td>78758</td>\n    </tr>\n    <tr>\n      <th>11</th>\n      <td>Pinthouse Pizza</td>\n      <td>4729 Burnet Road, 78756 [K] [BWSG]</td>\n      <td>4729 Burnet Road</td>\n      <td>78756</td>\n    </tr>\n    <tr>\n      <th>12</th>\n      <td>Bluebonnet Beer Company</td>\n      <td>1700 Bryant Dr. #107, Round Rock, 78664 [BWSG]</td>\n      <td>1700 Bryant Dr. #107</td>\n      <td>78664</td>\n    </tr>\n    <tr>\n      <th>13</th>\n      <td>Bull Creek Brewing</td>\n      <td>7100 FM 3405, Liberty Hill, 78642</td>\n      <td>7100 FM 3405</td>\n      <td>78642</td>\n    </tr>\n    <tr>\n      <th>14</th>\n      <td>Compadre Brewing</td>\n      <td>16920 Joe Barbee Drive Bldg 1, Round Rock, 78664</td>\n      <td>16920 Joe Barbee Drive Bldg 1</td>\n      <td>78664</td>\n    </tr>\n    <tr>\n      <th>15</th>\n      <td>Flix Brewhouse</td>\n      <td>2200 S Interstate 35 B1, Round Rock, 78681</td>\n      <td>2200 S Interstate 35 B1</td>\n      <td>78681</td>\n    </tr>\n    <tr>\n      <th>16</th>\n      <td>Humble Pint Brewing Co.</td>\n      <td>11880 Hero Way W Suite 208, Leander,</td>\n      <td>11880 Hero Way W Suite 208</td>\n      <td>78641</td>\n    </tr>\n    <tr>\n      <th>17</th>\n      <td>Pinthouse Pizza</td>\n      <td>2800 Hoppe Trail, Round Rock, 78681  [K]</td>\n      <td>2800 Hoppe Trail</td>\n      <td>78681</td>\n    </tr>\n    <tr>\n      <th>18</th>\n      <td>Red Horn Coffee House &amp; Brewing Co.</td>\n      <td>13010 W. Parmer Ln. #800, Cedar Park, 78613 [K]</td>\n      <td>13010 W. Parmer Ln. #800</td>\n      <td>78613</td>\n    </tr>\n    <tr>\n      <th>19</th>\n      <td>Rentsch Brewery</td>\n      <td>2500 NE Inner Loop, Georgetown, 78626</td>\n      <td>2500 NE Inner Loop</td>\n      <td>78626</td>\n    </tr>\n    <tr>\n      <th>20</th>\n      <td>San Gabriel River Brewery</td>\n      <td>500 Chaparral Drive, Liberty Hill, 78641 [BWSG]</td>\n      <td>500 Chaparral Drive</td>\n      <td>78641</td>\n    </tr>\n    <tr>\n      <th>21</th>\n      <td>Whitestone Brewery</td>\n      <td>601 E. Whitestone Blvd. #500, Cedar Park, 78613</td>\n      <td>601 E. Whitestone Blvd. #500</td>\n      <td>78613</td>\n    </tr>\n    <tr>\n      <th>22</th>\n      <td>Central District Brewing</td>\n      <td>NaN</td>\n      <td>417 Red River Street</td>\n      <td>78701</td>\n    </tr>\n    <tr>\n      <th>23</th>\n      <td>Holdout Brewin</td>\n      <td>1208 W 4th Street, 78703</td>\n      <td>1208 W 4th Street</td>\n      <td>78703</td>\n    </tr>\n    <tr>\n      <th>24</th>\n      <td>(512) Brewing</td>\n      <td>407 Radam Lane, 78745</td>\n      <td>407 Radam Lane</td>\n      <td>78745</td>\n    </tr>\n    <tr>\n      <th>25</th>\n      <td>Austin Beer Garden &amp; Brewery (ABGB)</td>\n      <td>1305 W Oltorf Street, 78704 [K] [BWSG]</td>\n      <td>1305 W Oltorf Street</td>\n      <td>78704</td>\n    </tr>\n    <tr>\n      <th>26</th>\n      <td>Independence Brewing</td>\n      <td>3913 Todd Lane #607, 78744</td>\n      <td>3913 Todd Lane #607</td>\n      <td>78744</td>\n    </tr>\n    <tr>\n      <th>27</th>\n      <td>Nomadic Beerworks</td>\n      <td>3804 Woodbury Drive Suite A, 78704 [BWSG]</td>\n      <td>3804 Woodbury Drive Suite A</td>\n      <td>78704</td>\n    </tr>\n    <tr>\n      <th>28</th>\n      <td>Orf Brewing</td>\n      <td>4700-F Burle­son Road, 78744</td>\n      <td>4700-F Burle­son Road</td>\n      <td>78744</td>\n    </tr>\n    <tr>\n      <th>29</th>\n      <td>Pinthouse Pizza</td>\n      <td>4236 S Lamar Boulevard, 78704 [K]</td>\n      <td>4236 S Lamar Boulevard</td>\n      <td>78704</td>\n    </tr>\n    <tr>\n      <th>30</th>\n      <td>Skull Mechanix Brewing</td>\n      <td>1005 E St Elmo Road,  78745 [BWSG]</td>\n      <td>1005 E St Elmo Road</td>\n      <td>78745</td>\n    </tr>\n    <tr>\n      <th>31</th>\n      <td>St Elmo Brewing</td>\n      <td>440 E St Elmo Road, 78745 [BWSG]</td>\n      <td>440 E St Elmo Road</td>\n      <td>78745</td>\n    </tr>\n    <tr>\n      <th>32</th>\n      <td>Thirsty Planet Brewing</td>\n      <td>8201 S Congress Avenue, 78745</td>\n      <td>8201 S Congress Avenue</td>\n      <td>78745</td>\n    </tr>\n    <tr>\n      <th>33</th>\n      <td>Two Wheel Brewing</td>\n      <td>535 S. Loop 4, Buda, 78610</td>\n      <td>535 S. Loop 4</td>\n      <td>78610</td>\n    </tr>\n    <tr>\n      <th>34</th>\n      <td>Batch Brewhouse</td>\n      <td>NaN</td>\n      <td>3220 Manor Road</td>\n      <td>78723</td>\n    </tr>\n    <tr>\n      <th>35</th>\n      <td>Blue Owl Brewing</td>\n      <td>2400 E Cesar Chavez Street, 78702 [BWSG]</td>\n      <td>2400 E Cesar Chavez Street</td>\n      <td>78702</td>\n    </tr>\n    <tr>\n      <th>36</th>\n      <td>Brewer’s Table</td>\n      <td>4715 E 5th Street, 78702 [K]</td>\n      <td>4715 E 5th Street</td>\n      <td>78702</td>\n    </tr>\n    <tr>\n      <th>37</th>\n      <td>Central Machine Works Brewery and Beer Hall</td>\n      <td>4824 E Cesar Chavez Street, 78702 [K]</td>\n      <td>4824 E Cesar Chavez Street</td>\n      <td>78702</td>\n    </tr>\n    <tr>\n      <th>38</th>\n      <td>Friends &amp; Allies Brewing</td>\n      <td>979 Springdale Road, 78702</td>\n      <td>979 Springdale Road</td>\n      <td>78702</td>\n    </tr>\n    <tr>\n      <th>39</th>\n      <td>Hi Sign Brewing</td>\n      <td>1201 Bastrop Highway, 78742</td>\n      <td>1201 Bastrop Highway</td>\n      <td>78742</td>\n    </tr>\n    <tr>\n      <th>40</th>\n      <td>Hops and Grain</td>\n      <td>507 Calles Street, 78702</td>\n      <td>507 Calles Street</td>\n      <td>78702</td>\n    </tr>\n    <tr>\n      <th>41</th>\n      <td>Lazarus Brewing</td>\n      <td>1902 E 6th Street, 78702 [K] [BWSG]</td>\n      <td>1902 E 6th Street</td>\n      <td>78702</td>\n    </tr>\n    <tr>\n      <th>42</th>\n      <td>Live Oak Brewing</td>\n      <td>1615 Crozier Lane, Del Valle, 78617</td>\n      <td>1615 Crozier Lane</td>\n      <td>78617</td>\n    </tr>\n    <tr>\n      <th>43</th>\n      <td>Oddwood Ales</td>\n      <td>3108 Manor Road, 78723 [K]</td>\n      <td>3108 Manor Road</td>\n      <td>78723</td>\n    </tr>\n    <tr>\n      <th>44</th>\n      <td>Southern Heights Brewing</td>\n      <td>6014 Techni Center Drive, 78721 [BWSG]</td>\n      <td>6014 Techni Center Drive</td>\n      <td>78721</td>\n    </tr>\n    <tr>\n      <th>45</th>\n      <td>Zilker Brewing</td>\n      <td>1701 E 6th Street, 78702</td>\n      <td>1701 E 6th Street</td>\n      <td>78702</td>\n    </tr>\n    <tr>\n      <th>46</th>\n      <td>12 Fox Beer Company</td>\n      <td>4700 W Fitzhugh Road, Dripping Springs, 78620</td>\n      <td>4700 W Fitzhugh Road</td>\n      <td>78620</td>\n    </tr>\n    <tr>\n      <th>47</th>\n      <td>Acopon Brewing</td>\n      <td>211 W. Mercer Street, Dripping Springs, 78620</td>\n      <td>211 W. Mercer Street</td>\n      <td>78620</td>\n    </tr>\n    <tr>\n      <th>48</th>\n      <td>Beerburg Brewing</td>\n      <td>13476 Fitzhugh Rd, Austin, TX 78736 [K]</td>\n      <td>13476 Fitzhugh Rd</td>\n      <td>78736</td>\n    </tr>\n    <tr>\n      <th>49</th>\n      <td>Family Business Beer</td>\n      <td>19510 Hamilton Pool Road, Dripping Springs, 78...</td>\n      <td>19510 Hamilton Pool Road</td>\n      <td>78620</td>\n    </tr>\n    <tr>\n      <th>50</th>\n      <td>Infamous Brewing Company</td>\n      <td>4602 Weletka Drive, Austin, 78734</td>\n      <td>4602 Weletka Drive</td>\n      <td>78734</td>\n    </tr>\n    <tr>\n      <th>51</th>\n      <td>Jester King Brewery</td>\n      <td>13187 Fitzhugh Road, Austin, 78736 [K]</td>\n      <td>13187 Fitzhugh Road</td>\n      <td>78736</td>\n    </tr>\n    <tr>\n      <th>52</th>\n      <td>Last Stand Brewing</td>\n      <td>12345 Pauls Valley Road, Austin, 78737</td>\n      <td>12345 Pauls Valley Road</td>\n      <td>78737</td>\n    </tr>\n    <tr>\n      <th>53</th>\n      <td>Oasis Texas Brewing</td>\n      <td>6550 Comanche Trail, Austin, 78732 [K]</td>\n      <td>6550 Comanche Trail</td>\n      <td>78732</td>\n    </tr>\n    <tr>\n      <th>54</th>\n      <td>One Shot Distillery &amp; Brewery</td>\n      <td>31610 Ranch Road 12, Dripping Springs, 78620</td>\n      <td>31610 Ranch Road 12</td>\n      <td>78620</td>\n    </tr>\n    <tr>\n      <th>55</th>\n      <td>Suds Monkey Brewing</td>\n      <td>1032 Canyon Bend Drive, Dripping Springs, 78620</td>\n      <td>1032 Canyon Bend Drive</td>\n      <td>78620</td>\n    </tr>\n    <tr>\n      <th>56</th>\n      <td>Twisted X Brewing</td>\n      <td>23455 Ranch to Market Road 150, Dripping Sprin...</td>\n      <td>23455 Ranch to Market Road 150</td>\n      <td>78620</td>\n    </tr>\n    <tr>\n      <th>57</th>\n      <td>Vista Brewing</td>\n      <td>13551 Ranch to Market Road 150, Driftwood, 786...</td>\n      <td>13551 Ranch to Market Road 150</td>\n      <td>78619</td>\n    </tr>\n    <tr>\n      <th>58</th>\n      <td>Meanwhile Brewing</td>\n      <td>(under construction, anticipated opening late ...</td>\n      <td>3901 Promontory Point Drive</td>\n      <td>78744</td>\n    </tr>\n    <tr>\n      <th>59</th>\n      <td>Hitmaker Brewing Company</td>\n      <td>(under construction) 11160 Circle Drive, 78736</td>\n      <td>11160 Circle Drive</td>\n      <td>78736</td>\n    </tr>\n  </tbody>\n</table>\n</div>"
     },
     "metadata": {},
     "execution_count": 15
    }
   ],
   "source": [
    "df"
   ]
  },
  {
   "cell_type": "code",
   "execution_count": 16,
   "metadata": {},
   "outputs": [
    {
     "output_type": "execute_result",
     "data": {
      "text/plain": "                        Brewery                   Street_Address Zipcode\n0   4th Tap Brewing Cooperative           10615 Metric Boulevard   78758\n1            Adelbert’s Brewery               2314 Rutland Drive   78758\n2              Austin Beerworks          3001 Industrial Terrace   78758\n3              Black Star Co-Op             7020 Easy Wind Drive   78752\n4                    Brewtorium              6015 Dillard Circle   78752\n5                 Celis Brewing           10001 Metric Boulevard   78758\n6                Circle Brewing               2340 W Braker Lane   78758\n7                 Draught House             4112 Medical Parkway   78756\n8              Hopsquad Brewing                 2307 Kramer Lane   78758\n9            Flying Man Brewing  2400 Patterson Industrial Drive   78660\n10                  Oskar Blues           10420 Metric Boulevard   78758\n11              Pinthouse Pizza                 4729 Burnet Road   78756\n12      Bluebonnet Beer Company             1700 Bryant Dr. #107   78664\n13           Bull Creek Brewing                     7100 FM 3405   78642\n14             Compadre Brewing    16920 Joe Barbee Drive Bldg 1   78664",
      "text/html": "<div>\n<style scoped>\n    .dataframe tbody tr th:only-of-type {\n        vertical-align: middle;\n    }\n\n    .dataframe tbody tr th {\n        vertical-align: top;\n    }\n\n    .dataframe thead th {\n        text-align: right;\n    }\n</style>\n<table border=\"1\" class=\"dataframe\">\n  <thead>\n    <tr style=\"text-align: right;\">\n      <th></th>\n      <th>Brewery</th>\n      <th>Street_Address</th>\n      <th>Zipcode</th>\n    </tr>\n  </thead>\n  <tbody>\n    <tr>\n      <th>0</th>\n      <td>4th Tap Brewing Cooperative</td>\n      <td>10615 Metric Boulevard</td>\n      <td>78758</td>\n    </tr>\n    <tr>\n      <th>1</th>\n      <td>Adelbert’s Brewery</td>\n      <td>2314 Rutland Drive</td>\n      <td>78758</td>\n    </tr>\n    <tr>\n      <th>2</th>\n      <td>Austin Beerworks</td>\n      <td>3001 Industrial Terrace</td>\n      <td>78758</td>\n    </tr>\n    <tr>\n      <th>3</th>\n      <td>Black Star Co-Op</td>\n      <td>7020 Easy Wind Drive</td>\n      <td>78752</td>\n    </tr>\n    <tr>\n      <th>4</th>\n      <td>Brewtorium</td>\n      <td>6015 Dillard Circle</td>\n      <td>78752</td>\n    </tr>\n    <tr>\n      <th>5</th>\n      <td>Celis Brewing</td>\n      <td>10001 Metric Boulevard</td>\n      <td>78758</td>\n    </tr>\n    <tr>\n      <th>6</th>\n      <td>Circle Brewing</td>\n      <td>2340 W Braker Lane</td>\n      <td>78758</td>\n    </tr>\n    <tr>\n      <th>7</th>\n      <td>Draught House</td>\n      <td>4112 Medical Parkway</td>\n      <td>78756</td>\n    </tr>\n    <tr>\n      <th>8</th>\n      <td>Hopsquad Brewing</td>\n      <td>2307 Kramer Lane</td>\n      <td>78758</td>\n    </tr>\n    <tr>\n      <th>9</th>\n      <td>Flying Man Brewing</td>\n      <td>2400 Patterson Industrial Drive</td>\n      <td>78660</td>\n    </tr>\n    <tr>\n      <th>10</th>\n      <td>Oskar Blues</td>\n      <td>10420 Metric Boulevard</td>\n      <td>78758</td>\n    </tr>\n    <tr>\n      <th>11</th>\n      <td>Pinthouse Pizza</td>\n      <td>4729 Burnet Road</td>\n      <td>78756</td>\n    </tr>\n    <tr>\n      <th>12</th>\n      <td>Bluebonnet Beer Company</td>\n      <td>1700 Bryant Dr. #107</td>\n      <td>78664</td>\n    </tr>\n    <tr>\n      <th>13</th>\n      <td>Bull Creek Brewing</td>\n      <td>7100 FM 3405</td>\n      <td>78642</td>\n    </tr>\n    <tr>\n      <th>14</th>\n      <td>Compadre Brewing</td>\n      <td>16920 Joe Barbee Drive Bldg 1</td>\n      <td>78664</td>\n    </tr>\n  </tbody>\n</table>\n</div>"
     },
     "metadata": {},
     "execution_count": 16
    }
   ],
   "source": [
    "df_cleaned = df[['Brewery', 'Street_Address', 'Zipcode']]\n",
    "df_cleaned.head(15)"
   ]
  }
 ]
}